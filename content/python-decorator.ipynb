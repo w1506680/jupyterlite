{
 "cells": [
  {
   "cell_type": "markdown",
   "id": "86844772-0bcd-4640-910d-e3c6a295e18f",
   "metadata": {},
   "source": [
    "# **Python Dectorators**\n",
    "### Demystifying Python Decorators"
   ]
  },
  {
   "cell_type": "markdown",
   "id": "6537998f-2154-414e-b24b-fa8b29ee178f",
   "metadata": {},
   "source": [
    "Python decorators are a powerful and versatile feature, but they can be a bit tricky to grasp initially. In this post, we will demystify decorators and break them down into simple, easy-to-understand concepts."
   ]
  },
  {
   "cell_type": "markdown",
   "id": "0f340ce2-ab04-4e72-aeee-077e19c209ca",
   "metadata": {},
   "source": [
    "## **The Basics**\n",
    "\n",
    "To understand decorators, you need to be familiar with some foundational concepts:\n",
    "\n",
    "- **Functions as First-Class Citizens**: In Python, functions are first-class citizens, which means they can be treated like any other object, including being passed as arguments to other functions.\n",
    "\n",
    "- **Nested Functions**: Python allows you to define functions within other functions, which is essential for creating decorators.\n",
    "\n",
    "- **The `@` Syntax**: Decorators are applied using the `@decorator_name` syntax just before a function definition."
   ]
  },
  {
   "cell_type": "markdown",
   "id": "a418194c-e326-4c28-805d-7a08398772af",
   "metadata": {},
   "source": [
    "## **Creating Your First Decorator**\n",
    "\n",
    "Let's simplify the process of creating a decorator step by step. We'll start with a basic example that logs the execution of a function."
   ]
  },
  {
   "cell_type": "code",
   "execution_count": 2,
   "id": "5c715fe9-788b-401e-b5f1-545364686d2f",
   "metadata": {},
   "outputs": [],
   "source": [
    "def log_execution(func):\n",
    "    def wrapper(*args, **kwargs):\n",
    "        print(f\"Executing {func.__name__}...\")\n",
    "        result = func(*args, **kwargs)\n",
    "        print(f\"{func.__name__} executed.\")\n",
    "        return result\n",
    "    return wrapper\n",
    "\n",
    "@log_execution\n",
    "def greet(name):\n",
    "    return f\"Hello, {name}!\""
   ]
  },
  {
   "cell_type": "code",
   "execution_count": 5,
   "id": "0fd7167d-b2c2-4720-9322-5fee3d7ffb24",
   "metadata": {},
   "outputs": [
    {
     "name": "stdout",
     "output_type": "stream",
     "text": [
      "Executing greet...\n",
      "greet executed.\n",
      "Hello, Mark!\n"
     ]
    }
   ],
   "source": [
    "print(greet(\"Mark\"))"
   ]
  },
  {
   "cell_type": "markdown",
   "id": "d438b0d0-b62a-47ef-8a7b-4f95a63f2b74",
   "metadata": {},
   "source": [
    "In this example, we’ve created a decorator called `log_execution` that logs the execution of the decorated function. The `@log_execution` line applies the decorator to the `greet` function."
   ]
  },
  {
   "cell_type": "code",
   "execution_count": null,
   "id": "94d326cd-8fdf-4da3-92fb-6df259614782",
   "metadata": {},
   "outputs": [],
   "source": []
  }
 ],
 "metadata": {
  "kernelspec": {
   "display_name": "Python 3 (ipykernel)",
   "language": "python",
   "name": "python3"
  },
  "language_info": {
   "codemirror_mode": {
    "name": "ipython",
    "version": 3
   },
   "file_extension": ".py",
   "mimetype": "text/x-python",
   "name": "python",
   "nbconvert_exporter": "python",
   "pygments_lexer": "ipython3",
   "version": "3.10.12"
  }
 },
 "nbformat": 4,
 "nbformat_minor": 5
}
