{
 "cells": [
  {
   "cell_type": "code",
   "execution_count": 10,
   "id": "ab6974c5-397e-42ec-98b7-99a1d4091c7b",
   "metadata": {},
   "outputs": [],
   "source": [
    "import functools\n",
    "import time\n",
    "\n",
    "@functools.lru_cache(maxsize=128)  # Cache up to 128 most recently used results\n",
    "def expensive_operation(x):\n",
    "    print(\"inside expensive_operation\")\n",
    "    time.sleep(2)  # Simulate a computationally expensive operation\n",
    "    return x * 2"
   ]
  },
  {
   "cell_type": "code",
   "execution_count": 11,
   "id": "f98ebba3-acf7-47d3-90d2-57f7dc5160d2",
   "metadata": {},
   "outputs": [
    {
     "name": "stdout",
     "output_type": "stream",
     "text": [
      "inside expensive_operation\n",
      "200\n"
     ]
    }
   ],
   "source": [
    "print(expensive_operation(100))"
   ]
  },
  {
   "cell_type": "code",
   "execution_count": 12,
   "id": "ecfa9328-718e-46cb-9115-76ca9305eded",
   "metadata": {},
   "outputs": [
    {
     "name": "stdout",
     "output_type": "stream",
     "text": [
      "200\n"
     ]
    }
   ],
   "source": [
    "print(expensive_operation(100))"
   ]
  },
  {
   "cell_type": "code",
   "execution_count": null,
   "id": "edba02b9-6086-4364-8b3a-d35127ff5986",
   "metadata": {},
   "outputs": [],
   "source": []
  }
 ],
 "metadata": {
  "kernelspec": {
   "display_name": "Python 3 (ipykernel)",
   "language": "python",
   "name": "python3"
  },
  "language_info": {
   "codemirror_mode": {
    "name": "ipython",
    "version": 3
   },
   "file_extension": ".py",
   "mimetype": "text/x-python",
   "name": "python",
   "nbconvert_exporter": "python",
   "pygments_lexer": "ipython3",
   "version": "3.10.12"
  }
 },
 "nbformat": 4,
 "nbformat_minor": 5
}
