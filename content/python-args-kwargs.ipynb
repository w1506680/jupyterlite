{
 "cells": [
  {
   "cell_type": "code",
   "execution_count": 1,
   "id": "7b04978f-893a-47b9-9288-22ff47af6a4c",
   "metadata": {},
   "outputs": [
    {
     "name": "stdout",
     "output_type": "stream",
     "text": [
      "Hello, Alice!\n",
      "Hello, Bob!\n",
      "Hello, Charlie!\n"
     ]
    }
   ],
   "source": [
    "def greet(*names):\n",
    "    for name in names:\n",
    "        print(f\"Hello, {name}!\")\n",
    "\n",
    "greet(\"Alice\", \"Bob\", \"Charlie\")"
   ]
  },
  {
   "cell_type": "code",
   "execution_count": 2,
   "id": "21afb5f9-6558-4e28-b9aa-a27e9a8ce7cf",
   "metadata": {},
   "outputs": [
    {
     "name": "stdout",
     "output_type": "stream",
     "text": [
      "name: Alice\n",
      "age: 30\n",
      "country: USA\n"
     ]
    }
   ],
   "source": [
    "def print_info(**kwargs):\n",
    "    for key, value in kwargs.items():\n",
    "        print(f\"{key}: {value}\")\n",
    "\n",
    "print_info(name=\"Alice\", age=30, country=\"USA\")"
   ]
  },
  {
   "cell_type": "code",
   "execution_count": 3,
   "id": "c02d3a9d-90fd-4df9-9c4e-15f408c2f9ee",
   "metadata": {},
   "outputs": [
    {
     "name": "stdout",
     "output_type": "stream",
     "text": [
      "a: 1, b: 2, x: 0, y: 0\n",
      "Positional Arguments (*args): ()\n",
      "Keyword Arguments (**kwargs): {}\n"
     ]
    }
   ],
   "source": [
    "def example_function(a, b, *args, x=0, y=0, **kwargs):\n",
    "    print(f\"a: {a}, b: {b}, x: {x}, y: {y}\")\n",
    "    print(\"Positional Arguments (*args):\", args)\n",
    "    print(\"Keyword Arguments (**kwargs):\", kwargs)\n",
    "\n",
    "example_function(1, 2)"
   ]
  },
  {
   "cell_type": "code",
   "execution_count": null,
   "id": "2468f079-be5b-4b47-9e2f-5de2cd8c52f0",
   "metadata": {},
   "outputs": [],
   "source": []
  }
 ],
 "metadata": {
  "kernelspec": {
   "display_name": "Python 3 (ipykernel)",
   "language": "python",
   "name": "python3"
  },
  "language_info": {
   "codemirror_mode": {
    "name": "ipython",
    "version": 3
   },
   "file_extension": ".py",
   "mimetype": "text/x-python",
   "name": "python",
   "nbconvert_exporter": "python",
   "pygments_lexer": "ipython3",
   "version": "3.10.12"
  }
 },
 "nbformat": 4,
 "nbformat_minor": 5
}
